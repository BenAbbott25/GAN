{
 "cells": [
  {
   "cell_type": "code",
   "execution_count": null,
   "metadata": {},
   "outputs": [],
   "source": [
    "from utils import Image_Dataset, view_image\n",
    "from torch.utils.data import DataLoader\n",
    "import numpy as np\n",
    "import matplotlib.pyplot as plt\n",
    "import torch\n",
    "\n",
    "train_loader = DataLoader(\n",
    "    Image_Dataset(\n",
    "        root_dir=\"../datasets/animalFaces/\",\n",
    "        image_res=512,\n",
    "        grayscale=False\n",
    "    ),\n",
    "    batch_size=2,\n",
    "    shuffle=True\n",
    ")\n",
    "\n",
    "sample_indices = np.random.randint(0, len(train_loader.dataset), train_loader.batch_size)\n",
    "# sample = [train_loader.dataset[i] for i in sample_indices]\n",
    "sample = [train_loader.dataset[2007], train_loader.dataset[0]]\n",
    "print(sample_indices)\n",
    "\n",
    "for i, image in enumerate(sample):\n",
    "    print(f\"Sample {i} shape: {image.shape}\")\n",
    "\n",
    "    display_image = image.permute(1, 2, 0).numpy()\n",
    "\n",
    "    max, min = [-float('inf')]*3, [float('inf')]*3\n",
    "    for row in range(display_image.shape[0]):\n",
    "        for col in range(display_image.shape[1]):\n",
    "            for channel in range(display_image.shape[2]):\n",
    "                if channel == 4:\n",
    "                    display_image[row, col, channel] = 0\n",
    "                else:\n",
    "                    display_image[row, col, channel] = (display_image[row, col, channel] + 1) / 2\n",
    "                if display_image[row, col, channel] > max[channel]:\n",
    "                    max[channel] = display_image[row, col, channel]\n",
    "                if display_image[row, col, channel] < min[channel]:\n",
    "                    min[channel] = display_image[row, col, channel]\n",
    "    print(max, min)\n",
    "    plt.imshow(display_image, cmap='bgr')\n",
    "    plt.show()"
   ]
  },
  {
   "cell_type": "code",
   "execution_count": null,
   "metadata": {},
   "outputs": [],
   "source": [
    "import torch\n",
    "print(torch.backends.mps.is_available())"
   ]
  }
 ],
 "metadata": {
  "kernelspec": {
   "display_name": "Python 3",
   "language": "python",
   "name": "python3"
  },
  "language_info": {
   "codemirror_mode": {
    "name": "ipython",
    "version": 3
   },
   "file_extension": ".py",
   "mimetype": "text/x-python",
   "name": "python",
   "nbconvert_exporter": "python",
   "pygments_lexer": "ipython3",
   "version": "3.9.6"
  }
 },
 "nbformat": 4,
 "nbformat_minor": 2
}
