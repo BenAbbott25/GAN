{
 "cells": [
  {
   "cell_type": "code",
   "execution_count": 44,
   "metadata": {},
   "outputs": [],
   "source": [
    "import os\n",
    "import cv2\n",
    "import torch\n",
    "from torch.utils.data import Dataset\n",
    "\n",
    "class Image_Dataset2(Dataset):\n",
    "    def __init__(self, root_dir: str, image_res: int = 256, grayscale: bool = False):\n",
    "        self.root_dir = root_dir\n",
    "        self.image_res = image_res\n",
    "        self.grayscale = grayscale\n",
    "        self.images = [os.path.join(root, file)\n",
    "                       for root, _, files in os.walk(root_dir)\n",
    "                       for file in files if file.endswith(('.jpg', '.png'))]\n",
    "        \n",
    "        # Debug: Print the number of images found\n",
    "        print(f\"Number of images found: {len(self.images)}\")\n",
    "\n",
    "    def __len__(self) -> int:\n",
    "        return len(self.images)\n",
    "\n",
    "    def __getitem__(self, idx: int):\n",
    "        image_path = self.images[idx]\n",
    "        read_flag = cv2.IMREAD_GRAYSCALE if self.grayscale else cv2.IMREAD_COLOR\n",
    "        image = cv2.imread(image_path, read_flag)\n",
    "        image = cv2.resize(image, (self.image_res, self.image_res))\n",
    "\n",
    "        if self.grayscale:\n",
    "            image_tensor = (torch.tensor(image, dtype=torch.float32) / 255.0).unsqueeze(0)\n",
    "        else:\n",
    "            image = cv2.cvtColor(image, cv2.COLOR_BGR2RGB)\n",
    "            image_tensor = torch.tensor(image, dtype=torch.float32) / 255.0\n",
    "        \n",
    "        return image_tensor"
   ]
  },
  {
   "cell_type": "code",
   "execution_count": null,
   "metadata": {},
   "outputs": [],
   "source": [
    "from torch.utils.data import DataLoader\n",
    "import matplotlib.pyplot as plt\n",
    "\n",
    "image_size = 128\n",
    "grayscale = False\n",
    "train_data = Image_Dataset2(root_dir=\"../datasets/animalFaces\", image_res=image_size, grayscale=grayscale)\n",
    "\n",
    "train_loader = DataLoader(train_data, batch_size=64, shuffle=True)\n",
    "\n",
    "for batch in train_loader:\n",
    "    print(batch.shape)\n",
    "    if grayscale:\n",
    "        plt.imshow(batch[0].squeeze().numpy(), cmap=\"gray\")\n",
    "    else:\n",
    "        plt.imshow(batch[0].permute(1, 0, 2).numpy())\n",
    "    plt.show()\n",
    "    break\n"
   ]
  }
 ],
 "metadata": {
  "kernelspec": {
   "display_name": "Python 3",
   "language": "python",
   "name": "python3"
  },
  "language_info": {
   "codemirror_mode": {
    "name": "ipython",
    "version": 3
   },
   "file_extension": ".py",
   "mimetype": "text/x-python",
   "name": "python",
   "nbconvert_exporter": "python",
   "pygments_lexer": "ipython3",
   "version": "3.9.6"
  }
 },
 "nbformat": 4,
 "nbformat_minor": 2
}
